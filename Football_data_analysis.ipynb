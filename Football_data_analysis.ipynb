{
 "cells": [
  {
   "cell_type": "code",
   "execution_count": 1,
   "metadata": {},
   "outputs": [],
   "source": [
    "import warnings\n",
    "warnings.filterwarnings('ignore')\n",
    "\n"
   ]
  },
  {
   "cell_type": "code",
   "execution_count": 2,
   "metadata": {},
   "outputs": [],
   "source": [
    "import pandas as pd\n",
    "import csv\n",
    "\n",
    "\n",
    "\n",
    "df= pd.read_csv('CompleteDataset.csv')"
   ]
  },
  {
   "cell_type": "markdown",
   "metadata": {},
   "source": [
    "# Certain data are mentioned in dataset which require individual calculation. The below code snippet removes all such discrepencies, adds/subtracts value as required and returns an integer"
   ]
  },
  {
   "cell_type": "code",
   "execution_count": 3,
   "metadata": {
    "scrolled": true
   },
   "outputs": [],
   "source": [
    "\n",
    "#=============Balance field=============================#\n",
    "\n",
    "\n",
    "list_add=[]\n",
    "list_sub=[]\n",
    "for i in range(0,len(df['Balance'])):\n",
    "    if '+' in list(df['Balance'][i]):\n",
    "        list_add.append(i)\n",
    "    elif '-' in list(df['Balance'][i]):\n",
    "        list_sub.append(i)\n",
    "    else:\n",
    "        pass\n",
    "for i in list_add:\n",
    "    df['Balance'][i]=int(df['Balance'][i].split('+')[0])+int(df['Balance'][i].split('+')[1])\n",
    "for i in list_sub:\n",
    "    df['Balance'][i]=int(df['Balance'][i].split('-')[0])-int(df['Balance'][i].split('-')[1])\n",
    "\n",
    "\n",
    "    \n",
    "    \n",
    "    \n",
    "#===================Ball control field========================#\n",
    "\n",
    "\n",
    "\n",
    "list_add=[]\n",
    "list_sub=[]\n",
    "for i in range(0,len(df['Ball control'])):\n",
    "    if '+' in list(df['Ball control'][i]):\n",
    "        list_add.append(i)\n",
    "    elif '-' in list(df['Ball control'][i]):\n",
    "        list_sub.append(i)\n",
    "    else:\n",
    "        pass\n",
    "for i in list_add:\n",
    "    df['Ball control'][i]=int(df['Ball control'][i].split('+')[0])+int(df['Ball control'][i].split('+')[1])\n",
    "for i in list_sub:\n",
    "    df['Ball control'][i]=int(df['Ball control'][i].split('-')[0])-int(df['Ball control'][i].split('-')[1])\n",
    "    \n",
    "    \n",
    "    \n",
    "#==========================CURVE=============================#  \n",
    "    \n",
    "list_add=[]\n",
    "list_sub=[]\n",
    "for i in range(0,len(df['Curve'])):\n",
    "    if '+' in list(df['Curve'][i]):\n",
    "        list_add.append(i)\n",
    "    elif '-' in list(df['Curve'][i]):\n",
    "        list_sub.append(i)\n",
    "    else:\n",
    "        pass\n",
    "for i in list_add:\n",
    "    df['Curve'][i]=int(df['Curve'][i].split('+')[0])+int(df['Curve'][i].split('+')[1])\n",
    "for i in list_sub:\n",
    "    df['Curve'][i]=int(df['Curve'][i].split('-')[0])-int(df['Curve'][i].split('-')[1])\n",
    "    \n",
    "    \n",
    "    \n",
    "    \n",
    "#==============================================DRIBBLING=======================#   \n",
    "    \n",
    "\n",
    "    \n",
    "list_add=[]\n",
    "list_sub=[]\n",
    "for i in range(0,len(df['Dribbling'])):\n",
    "    if '+' in list(df['Dribbling'][i]):\n",
    "        list_add.append(i)\n",
    "    elif '-' in list(df['Dribbling'][i]):\n",
    "        list_sub.append(i)\n",
    "    else:\n",
    "        pass\n",
    "for i in list_add:\n",
    "    df['Dribbling'][i]=int(df['Dribbling'][i].split('+')[0])+int(df['Dribbling'][i].split('+')[1])\n",
    "for i in list_sub:\n",
    "    df['Dribbling'][i]=int(df['Dribbling'][i].split('-')[0])-int(df['Dribbling'][i].split('-')[1])\n",
    "    \n",
    "    \n",
    "    \n",
    "    \n",
    "#=============================FINISHING========================================#    \n",
    "    \n",
    "    \n",
    "    \n",
    "list_add=[]\n",
    "list_sub=[]\n",
    "for i in range(0,len(df['Finishing'])):\n",
    "    if '+' in list(df['Finishing'][i]):\n",
    "        list_add.append(i)\n",
    "    elif '-' in list(df['Finishing'][i]):\n",
    "        list_sub.append(i)\n",
    "    else:\n",
    "        pass\n",
    "for i in list_add:\n",
    "    df['Finishing'][i]=int(df['Finishing'][i].split('+')[0])+int(df['Finishing'][i].split('+')[1])\n",
    "for i in list_sub:\n",
    "    df['Finishing'][i]=int(df['Finishing'][i].split('-')[0])-int(df['Finishing'][i].split('-')[1])\n",
    "    \n",
    "    \n",
    "    \n",
    "    \n",
    "    \n",
    "#================FREE KICK ACCURACY AS 'FREE KICK'=======================#   \n",
    "    \n",
    "    \n",
    "    \n",
    "list_add=[]\n",
    "list_sub=[]\n",
    "for i in range(0,len(df['Free kick accuracy'])):\n",
    "    if type(df['Free kick accuracy'][i])!= int:\n",
    "        if '+' in list(df['Free kick accuracy'][i]):\n",
    "            list_add.append(i)\n",
    "        elif '-' in list(df['Free kick accuracy'][i]):\n",
    "            list_sub.append(i)\n",
    "        else:\n",
    "            pass\n",
    "for i in list_add:\n",
    "        df['Free kick accuracy'][i]= int(df['Free kick accuracy'][i].split('+')[0])+int(df['Free kick accuracy'][i].split('+')[1])\n",
    "for i in list_sub:\n",
    "    df['Free kick accuracy'][i]= int(df['Free kick accuracy'][i].split('-')[0])-int(df['Free kick accuracy'][i].split('-')[1])    \n",
    "\n",
    "    \n",
    "    \n",
    "    \n",
    "    \n",
    "    \n",
    "#====================HEADING ACCURACY AS 'ACCURACY'==========================#    \n",
    "    \n",
    "    \n",
    "    \n",
    "    \n",
    "list_add=[]\n",
    "list_sub=[]\n",
    "for i in range(0,len(df['Heading accuracy'])):\n",
    "    if '+' in list(df['Heading accuracy'][i]):\n",
    "        list_add.append(i)\n",
    "    elif '-' in list(df['Heading accuracy'][i]):\n",
    "        list_sub.append(i)\n",
    "    else:\n",
    "        pass\n",
    "for i in list_add:\n",
    "    df['Heading accuracy'][i]=int(df['Heading accuracy'][i].split('+')[0])+int(df['Heading accuracy'][i].split('+')[1])\n",
    "for i in list_sub:\n",
    "    df['Heading accuracy'][i]=int(df['Heading accuracy'][i].split('-')[0])-int(df['Heading accuracy'][i].split('-')[1])\n",
    "    \n",
    "    \n",
    "    \n",
    "    \n",
    "    \n",
    "\n"
   ]
  },
  {
   "cell_type": "markdown",
   "metadata": {},
   "source": [
    "# created another column as Best_Striker where the summation of all the required column is stored"
   ]
  },
  {
   "cell_type": "code",
   "execution_count": 4,
   "metadata": {},
   "outputs": [],
   "source": [
    "def best_striker():\n",
    "    df['Best_Striker']=df['Balance'].astype(int)+df['Ball control'].astype(int)+df['Curve'].astype(int)+df['Dribbling'].astype(int)+df['Finishing'].astype(int)+df['Free kick accuracy'].astype(int)+df['Heading accuracy'].astype(int)\n",
    "    return df[['Name','Club','Nationality']][df['Best_Striker']==df['Best_Striker'].max()]"
   ]
  },
  {
   "cell_type": "code",
   "execution_count": 5,
   "metadata": {
    "scrolled": true
   },
   "outputs": [
    {
     "data": {
      "text/html": [
       "<div>\n",
       "<style scoped>\n",
       "    .dataframe tbody tr th:only-of-type {\n",
       "        vertical-align: middle;\n",
       "    }\n",
       "\n",
       "    .dataframe tbody tr th {\n",
       "        vertical-align: top;\n",
       "    }\n",
       "\n",
       "    .dataframe thead th {\n",
       "        text-align: right;\n",
       "    }\n",
       "</style>\n",
       "<table border=\"1\" class=\"dataframe\">\n",
       "  <thead>\n",
       "    <tr style=\"text-align: right;\">\n",
       "      <th></th>\n",
       "      <th>Name</th>\n",
       "      <th>Club</th>\n",
       "      <th>Nationality</th>\n",
       "    </tr>\n",
       "  </thead>\n",
       "  <tbody>\n",
       "    <tr>\n",
       "      <th>1</th>\n",
       "      <td>L. Messi</td>\n",
       "      <td>FC Barcelona</td>\n",
       "      <td>Argentina</td>\n",
       "    </tr>\n",
       "  </tbody>\n",
       "</table>\n",
       "</div>"
      ],
      "text/plain": [
       "       Name          Club Nationality\n",
       "1  L. Messi  FC Barcelona   Argentina"
      ]
     },
     "execution_count": 5,
     "metadata": {},
     "output_type": "execute_result"
    }
   ],
   "source": []
  },
  {
   "cell_type": "markdown",
   "metadata": {},
   "source": [
    "# Best club"
   ]
  },
  {
   "cell_type": "code",
   "execution_count": 10,
   "metadata": {},
   "outputs": [
    {
     "data": {
      "text/plain": [
       "(1961.16, 'FC Barcelona')"
      ]
     },
     "execution_count": 10,
     "metadata": {},
     "output_type": "execute_result"
    }
   ],
   "source": [
    "def best_club()\n",
    "\n",
    "    unique_clubs=df['Club'].unique()                                  #unique_club is an array containing unique club names\n",
    "    average_special= df['Special'].where(df['Club']==unique_clubs[0]).mean() #this will contain highest average special\n",
    "    best_club=unique_clubs[0]                        #this contains name of best club                        \n",
    "\n",
    "\n",
    "    for i in unique_clubs:\n",
    "\n",
    "        temp_val=df['Special'].where(df['Club']==i).mean()\n",
    "        if temp_val>average_special:\n",
    "            average_special=temp_val\n",
    "            best_club=i\n",
    "    "
   ]
  },
  {
   "cell_type": "code",
   "execution_count": null,
   "metadata": {},
   "outputs": [],
   "source": [
    "#DreamTeam\n",
    "\n",
    "\n"
   ]
  },
  {
   "cell_type": "code",
   "execution_count": null,
   "metadata": {},
   "outputs": [],
   "source": []
  },
  {
   "cell_type": "code",
   "execution_count": 47,
   "metadata": {},
   "outputs": [
    {
     "data": {
      "text/plain": [
       "59    R. Nainggolan\n",
       "Name: Name, dtype: object"
      ]
     },
     "execution_count": 47,
     "metadata": {},
     "output_type": "execute_result"
    }
   ],
   "source": [
    "#BestPlayerInAgeRange\n",
    "\n",
    "def bestPlayerInAgeRange(age_range)\n",
    "\n",
    "    age_list=[int(x) for x in age_range.split(',')]\n",
    "\n",
    "    df1=df[(df.Age>age_list[0])&(df.Age<age_list[1])]\n",
    "    df1['Name'][df1['Special']==df1['Special'].max()]"
   ]
  },
  {
   "cell_type": "code",
   "execution_count": 48,
   "metadata": {},
   "outputs": [
    {
     "name": "stdout",
     "output_type": "stream",
     "text": [
      "type a number20\n",
      "<class 'str'>\n"
     ]
    }
   ],
   "source": []
  },
  {
   "cell_type": "code",
   "execution_count": null,
   "metadata": {},
   "outputs": [],
   "source": []
  }
 ],
 "metadata": {
  "kernelspec": {
   "display_name": "Python 3",
   "language": "python",
   "name": "python3"
  },
  "language_info": {
   "codemirror_mode": {
    "name": "ipython",
    "version": 3
   },
   "file_extension": ".py",
   "mimetype": "text/x-python",
   "name": "python",
   "nbconvert_exporter": "python",
   "pygments_lexer": "ipython3",
   "version": "3.7.3"
  }
 },
 "nbformat": 4,
 "nbformat_minor": 2
}
